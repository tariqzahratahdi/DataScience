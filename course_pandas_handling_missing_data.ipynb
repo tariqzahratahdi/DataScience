{
  "nbformat": 4,
  "nbformat_minor": 0,
  "metadata": {
    "colab": {
      "provenance": [],
      "authorship_tag": "ABX9TyOitE3l0e0H2wS4k7/ZQKtc"
    },
    "kernelspec": {
      "name": "python3",
      "display_name": "Python 3"
    },
    "language_info": {
      "name": "python"
    }
  },
  "cells": [
    {
      "cell_type": "code",
      "execution_count": null,
      "metadata": {
        "id": "zX_kOtCGZFSL"
      },
      "outputs": [],
      "source": [
        "# importing pandas\n",
        "import pandas as pd\n",
        "\n",
        "# csv file location\n",
        "url = 'https://dq-content.s3.amazonaws.com/291/f500.csv'\n",
        "\n",
        "# making data frame from csv file\n",
        "data = pd.read_csv(url, index_col = 'company')"
      ]
    },
    {
      "cell_type": "markdown",
      "source": [
        "# Handling Missing Data\n",
        "\n",
        "A dataset may have entries that are `NA`. These are values such as `null`, `None` or `NaN` (Not a Number).\n",
        "\n",
        "Pandas uses a sentinel value (`None` or `NaN`) to indicate a missing entry.\n",
        "\n",
        "# **`None`** sentinel value\n",
        "\n",
        "The first sentinel value used by Pandas is `None`, a Python singleton object that is often used for missing data in Python code.\n",
        "\n",
        "If you perform aggregations like `sum()` or `min()` across an array with a `None` value, you will generally get an error.\n",
        "\n",
        "# **`NaN`** missing numerical data\n",
        "\n",
        "The other sentinel value used by Pandas is `NaN`, which is a special floating-point value recognized by all systems that use the standard IEEE floating-point representation.\n",
        "\n",
        "Regardless of the operation, the result of arithmetic with `NaN` will be another `NaN`.\n",
        "\n",
        "NumPy does provide `NaN` safe versions of its aggregation functions, such as `np.nansum()`, `np.nanmin()`, `np.nanmax()`, that will ignore these missing values .\n",
        "\n",
        "# **`NaN`** and **`None`** in Pandas\n",
        "\n",
        "`NaN` and `None` both have their place, and Pandas is built to handle the two of them nearly interchangeably, converting between them where appropriate.\n",
        "\n",
        "# Operating on **`null`** Values\n",
        "\n",
        "Pandas treats `None` and `NaN` as essentially interchangeable for indicating missing or `null` values.\n",
        "\n",
        "To facilitate this convention, there are several useful methods for detecting, removing, and replacing `null` values in Pandas data structures.\n",
        "\n",
        "They are:\n",
        "\n",
        "* `isnull()` : generates a Boolean mask indicating missing values.\n",
        "* `notnull()` : opposite of `isnull()`.\n",
        "* `dropna()` : returns a filtered version of the data.\n",
        "* `fillna()` : returns a copy of the data with missing values filled or imputed.\n",
        "\n",
        "**Example**"
      ],
      "metadata": {
        "id": "57Vc_Nr2ZOlX"
      }
    },
    {
      "cell_type": "code",
      "source": [
        "# data filter\n",
        "data_filter = data['profits'].isnull()\n",
        "\n",
        "# data selection\n",
        "data_selection = data[data_filter]['profits']\n",
        "\n",
        "data_selection"
      ],
      "metadata": {
        "colab": {
          "base_uri": "https://localhost:8080/",
          "height": 146
        },
        "id": "arxlqaCCa8i_",
        "outputId": "f870d598-65c4-400f-ce2b-fa1e9ab51f6b"
      },
      "execution_count": null,
      "outputs": [
        {
          "output_type": "execute_result",
          "data": {
            "text/plain": [
              "company\n",
              "Heraeus Holding   NaN\n",
              "Name: profits, dtype: float64"
            ],
            "text/html": [
              "<div>\n",
              "<style scoped>\n",
              "    .dataframe tbody tr th:only-of-type {\n",
              "        vertical-align: middle;\n",
              "    }\n",
              "\n",
              "    .dataframe tbody tr th {\n",
              "        vertical-align: top;\n",
              "    }\n",
              "\n",
              "    .dataframe thead th {\n",
              "        text-align: right;\n",
              "    }\n",
              "</style>\n",
              "<table border=\"1\" class=\"dataframe\">\n",
              "  <thead>\n",
              "    <tr style=\"text-align: right;\">\n",
              "      <th></th>\n",
              "      <th>profits</th>\n",
              "    </tr>\n",
              "    <tr>\n",
              "      <th>company</th>\n",
              "      <th></th>\n",
              "    </tr>\n",
              "  </thead>\n",
              "  <tbody>\n",
              "    <tr>\n",
              "      <th>Heraeus Holding</th>\n",
              "      <td>NaN</td>\n",
              "    </tr>\n",
              "  </tbody>\n",
              "</table>\n",
              "</div><br><label><b>dtype:</b> float64</label>"
            ]
          },
          "metadata": {},
          "execution_count": 2
        }
      ]
    },
    {
      "cell_type": "markdown",
      "source": [
        "## Dropping **`null`** values\n",
        "\n",
        "The method `dropna()` is used to remove `NA` values. It returns a filtered version of the data.\n",
        "\n",
        "By default, it will drop all rows in which any null value is present.\n",
        "\n",
        "Alternatively, you can drop `NA` values along a different axis. For example, `axis=1` will drop all columns containing a `null` value:\n",
        "\n",
        "> *Syntax*\n",
        "```python\n",
        "dropna(axis='columns')\n",
        "```\n",
        "\n",
        "## Filling **`null`** values\n",
        "\n",
        "The method `fillna()` is used to fill in `NA` values. It returns a copy of the array with the `null` values replaced with a specified value. For example, `data.fillna(0)` will fill in `NA` values with 0.\n",
        "\n"
      ],
      "metadata": {
        "id": "7GHu6spnbns_"
      }
    }
  ]
}
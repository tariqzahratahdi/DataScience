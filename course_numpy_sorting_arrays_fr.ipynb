{
  "nbformat": 4,
  "nbformat_minor": 0,
  "metadata": {
    "colab": {
      "provenance": [],
      "authorship_tag": "ABX9TyPk0lm/Tg4z4t2cWwUQMcl/",
      "include_colab_link": true
    },
    "kernelspec": {
      "name": "python3",
      "display_name": "Python 3"
    },
    "language_info": {
      "name": "python"
    }
  },
  "cells": [
    {
      "cell_type": "markdown",
      "metadata": {
        "id": "view-in-github",
        "colab_type": "text"
      },
      "source": [
        "<a href=\"https://colab.research.google.com/github/tariqzahratahdi/DataScience/blob/main/course_numpy_sorting_arrays_fr.ipynb\" target=\"_parent\"><img src=\"https://colab.research.google.com/assets/colab-badge.svg\" alt=\"Open In Colab\"/></a>"
      ]
    },
    {
      "cell_type": "markdown",
      "source": [
        "# Tri des arrays\n",
        "\n",
        "Le tri des arrays de données est une tâche numérique très courante.\n",
        "\n",
        "Ceci est facile à réaliser à l'aide de la fonction **`numpy.sort()`**.\n",
        "\n",
        "## La méthode de tri\n",
        "\n",
        "> Syntaxe\n",
        "<font size = \"4\">\n",
        "```python\n",
        "numpy.sort(a, axis=-1, kind=None, order=None)\n",
        "```\n",
        "</font>\n",
        "\n",
        "*Paramètres*\n",
        "* `a`: l'array à trier.\n",
        "* `axis`: `int` ou `None`, facultatif. L'axe sur lequel l'array sera trié. La valeur par défaut est `-1`, qui trie le long du dernier axe.\n",
        "* `kind`: {`quicksort`, `mergesort`, `heapsort`, `stable`}, facultatif. L'algorithme de tri. La valeur par défaut est `quicksort`.\n",
        "\n",
        "Le tri est effectué dans l'ordre croissant.\n"
      ],
      "metadata": {
        "id": "eOWBUlXsRxUk"
      }
    },
    {
      "cell_type": "code",
      "source": [
        "import numpy as np\n",
        "\n",
        "a = np.random.randint(10, 99, 9)\n",
        "arr1 = a.reshape(3, 3)\n",
        "\n",
        "print(arr1)\n",
        "\n",
        "# sort\n",
        "arr2 = np.sort(arr1)\n",
        "\n",
        "print(arr2)"
      ],
      "metadata": {
        "colab": {
          "base_uri": "https://localhost:8080/"
        },
        "id": "R3ApCLrqTLiS",
        "outputId": "26332025-96eb-4885-bcc1-fef40a63adad"
      },
      "execution_count": 1,
      "outputs": [
        {
          "output_type": "stream",
          "name": "stdout",
          "text": [
            "[[64 52 49]\n",
            " [50 59 86]\n",
            " [12 54 35]]\n",
            "[[49 52 64]\n",
            " [50 59 86]\n",
            " [12 35 54]]\n"
          ]
        }
      ]
    },
    {
      "cell_type": "markdown",
      "source": [
        "## Trier et aplatir\n",
        "\n",
        "Pour aplatir l'array lors du tri, on ajoute `axis=None` à l'appel de tri."
      ],
      "metadata": {
        "id": "KFTc4wO-TgMJ"
      }
    },
    {
      "cell_type": "code",
      "execution_count": 2,
      "metadata": {
        "colab": {
          "base_uri": "https://localhost:8080/"
        },
        "id": "m7ZapOTaRvYu",
        "outputId": "00ec604d-7b18-4125-be64-6b0ef724d03f"
      },
      "outputs": [
        {
          "output_type": "stream",
          "name": "stdout",
          "text": [
            "[[29 96 52]\n",
            " [30 89 61]\n",
            " [93 75 11]]\n",
            "[11 29 30 52 61 75 89 93 96]\n"
          ]
        }
      ],
      "source": [
        "a = np.random.randint(10, 99, 9)\n",
        "arr1 = a.reshape(3, 3)\n",
        "\n",
        "print(arr1)\n",
        "\n",
        "# sort and flatten array\n",
        "arr2 = np.sort(arr1, axis=None)\n",
        "\n",
        "print(arr2)"
      ]
    },
    {
      "cell_type": "markdown",
      "source": [
        "## Tri de chaque ligne\n",
        "\n",
        "Pour trier chaque ligne d'un array 2D dans l'ordre croissant, on spécifie l'axe sur lequel trier. Dans ce cas, on doit trier le long de `axis=1`."
      ],
      "metadata": {
        "id": "USoHcJk1c4h9"
      }
    },
    {
      "cell_type": "code",
      "source": [
        "a = np.random.randint(10, 99, 9)\n",
        "arr1 = a.reshape(3, 3)\n",
        "\n",
        "print(arr1)\n",
        "\n",
        "# sort each row\n",
        "arr2 = np.sort(arr1, axis=1)\n",
        "\n",
        "print(arr2)"
      ],
      "metadata": {
        "colab": {
          "base_uri": "https://localhost:8080/"
        },
        "id": "rjt6x_VWdHdw",
        "outputId": "3177e353-1824-4397-ebcc-79ec95d61f58"
      },
      "execution_count": 3,
      "outputs": [
        {
          "output_type": "stream",
          "name": "stdout",
          "text": [
            "[[18 32 91]\n",
            " [11 51 37]\n",
            " [60 11 19]]\n",
            "[[18 32 91]\n",
            " [11 37 51]\n",
            " [11 19 60]]\n"
          ]
        }
      ]
    },
    {
      "cell_type": "markdown",
      "source": [
        "## Tri de chaque colonne\n",
        "\n",
        "On procède de la même manière que le tri des lignes, sauf qu'on trie le long de `axis=0`."
      ],
      "metadata": {
        "id": "JjhI5ZPCdfum"
      }
    },
    {
      "cell_type": "code",
      "source": [
        "a = np.random.randint(10, 99, 9)\n",
        "arr1 = a.reshape(3, 3)\n",
        "\n",
        "print(arr1)\n",
        "\n",
        "# trier chaque colonne\n",
        "arr2 = np.sort(arr1, axis=0)\n",
        "\n",
        "print(arr2)"
      ],
      "metadata": {
        "colab": {
          "base_uri": "https://localhost:8080/"
        },
        "id": "y4CW91sKdklr",
        "outputId": "83cd3947-bc0a-4ddd-93d6-952701f6f423"
      },
      "execution_count": 4,
      "outputs": [
        {
          "output_type": "stream",
          "name": "stdout",
          "text": [
            "[[20 59 79]\n",
            " [43 47 31]\n",
            " [43 82 48]]\n",
            "[[20 47 31]\n",
            " [43 59 48]\n",
            " [43 82 79]]\n"
          ]
        }
      ]
    }
  ]
}
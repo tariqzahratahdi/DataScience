{
  "nbformat": 4,
  "nbformat_minor": 0,
  "metadata": {
    "colab": {
      "provenance": [],
      "authorship_tag": "ABX9TyPEdA69kVtnpTpSLlrJOmXm",
      "include_colab_link": true
    },
    "kernelspec": {
      "name": "python3",
      "display_name": "Python 3"
    },
    "language_info": {
      "name": "python"
    }
  },
  "cells": [
    {
      "cell_type": "markdown",
      "metadata": {
        "id": "view-in-github",
        "colab_type": "text"
      },
      "source": [
        "<a href=\"https://colab.research.google.com/github/tariqzahratahdi/DataScience/blob/main/course_matplotlib_histograms_fr.ipynb\" target=\"_parent\"><img src=\"https://colab.research.google.com/assets/colab-badge.svg\" alt=\"Open In Colab\"/></a>"
      ]
    },
    {
      "cell_type": "markdown",
      "source": [
        "# Histogrammes\n",
        "\n",
        "# Création d'un histogramme\n",
        "\n",
        "Un histogramme simple peut constituer une première étape dans la compréhension d'un ensemble de données.\n",
        "\n",
        "Les histogrammes sont excellents pour illustrer la distribution des données.\n",
        "\n",
        "Un histogramme sert essentiellement à représenter des données sous forme de groupes.\n",
        "\n",
        "Par exemple, vous pouvez afficher la distribution des âges d'une population ou des salaires d'une ville.\n",
        "\n",
        "Un histogramme affiche des données numériques en les regroupant en «classes» de largeur égale. Chaque classe est représentée par une barre dont la hauteur correspond au nombre de points qu'elle contient.\n",
        "\n",
        "Dans un histogramme, l'axe des X représente les intervalles de classes, tandis que l'axe des Y renseigne sur la fréquence.\n",
        "\n",
        "La fonction `pyplot.hist()` permet de calculer et de tracer un histogramme.\n",
        "\n",
        "**Example**"
      ],
      "metadata": {
        "id": "en9MZatIncot"
      }
    },
    {
      "cell_type": "code",
      "execution_count": null,
      "metadata": {
        "colab": {
          "base_uri": "https://localhost:8080/",
          "height": 529
        },
        "id": "VWB4q3NonNyZ",
        "outputId": "221e0924-0b03-4c88-a769-82387aab9b84"
      },
      "outputs": [
        {
          "output_type": "execute_result",
          "data": {
            "text/plain": [
              "(array([  3.,  14.,  59., 144., 215., 242., 187.,  99.,  29.,   6.,   1.,\n",
              "          1.]),\n",
              " array([-3.17613338, -2.56076256, -1.94539174, -1.33002092, -0.7146501 ,\n",
              "        -0.09927928,  0.51609154,  1.13146235,  1.74683317,  2.36220399,\n",
              "         2.97757481,  3.59294563,  4.20831645]),\n",
              " <BarContainer object of 12 artists>)"
            ]
          },
          "metadata": {},
          "execution_count": 1
        },
        {
          "output_type": "display_data",
          "data": {
            "text/plain": [
              "<Figure size 640x480 with 1 Axes>"
            ],
            "image/png": "[encoded data removed]"
          },
          "metadata": {}
        }
      ],
      "source": [
        "import numpy as np\n",
        "import matplotlib.pyplot as plt\n",
        "\n",
        "plt.style.use('seaborn-v0_8-whitegrid')\n",
        "\n",
        "# making data from a normal distribution\n",
        "data = np.random.randn(1000)\n",
        "\n",
        "# setting figure\n",
        "plt.hist(data, bins=12, linewidth=0.5, edgecolor=\"white\")"
      ]
    },
    {
      "cell_type": "markdown",
      "source": [
        "Si le paramètre `bins` est un entier, il définit le nombre de barres de largeur égale dans la plage.<br>\n",
        "Si `bins` est une séquence, il définit les bords des barres.<br>\n",
        "Par exemple, si `bins` est:\n",
        "```python\n",
        "[1, 2, 3, 4]\n",
        "```\n",
        "alors, la première barre est `[1, 2)`, la seconde `[2, 3)` et la dernière `[3, 4]`.\n",
        "\n",
        "La fonction `pyplot.hist()` renvoie:\n",
        "* `n`: `array` ou `list` d'arrays. Les valeurs des barres de l'histogramme.\n",
        "* `bins`: `array`. Les bords des barres."
      ],
      "metadata": {
        "id": "tDdeTqJbMWC7"
      }
    }
  ]
}
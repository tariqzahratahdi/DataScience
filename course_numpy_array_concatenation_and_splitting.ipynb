{
  "nbformat": 4,
  "nbformat_minor": 0,
  "metadata": {
    "colab": {
      "provenance": [],
      "authorship_tag": "ABX9TyPiDOKiFxnEFVhUAHRoFLIp"
    },
    "kernelspec": {
      "name": "python3",
      "display_name": "Python 3"
    },
    "language_info": {
      "name": "python"
    }
  },
  "cells": [
    {
      "cell_type": "markdown",
      "source": [
        "# Array concatenation and splitting\n",
        "\n",
        "# Array concatenation\n",
        "\n",
        "NumPy's concatenation function provides a method to join sequences of arrays along an existing axis.\n",
        "\n",
        "If you need to build up a matrix from a set of smaller arrays, then use `numpy.concatenate()`.\n",
        "\n",
        "> Syntax\n",
        "<font size=\"4\">\n",
        "```python\n",
        "numpy.concatenate((a1, a2, …), axis=0)\n",
        "```\n",
        "</font>\n",
        "\n",
        "The `axis` parameter defines along wich axis or dimension the arrays should be joined. The default `axis=0` will join on the zero axis.\n",
        "\n",
        "## Concatenation of rows\n",
        "\n",
        "To concatenate two arrays `a` and `b` along the rows axis we set `axis=0`. This will add array `b` as a new row below array `a`.\n",
        "\n",
        "**Example**\n",
        "\n"
      ],
      "metadata": {
        "id": "xT9x2O1dinXi"
      }
    },
    {
      "cell_type": "code",
      "execution_count": null,
      "metadata": {
        "colab": {
          "base_uri": "https://localhost:8080/"
        },
        "id": "4cdVl-w5ilGk",
        "outputId": "8f03264a-afa0-4423-c37f-f4dd049678bf"
      },
      "outputs": [
        {
          "output_type": "stream",
          "name": "stdout",
          "text": [
            "[[1 2]\n",
            " [3 4]\n",
            " [5 6]]\n"
          ]
        }
      ],
      "source": [
        "import numpy as np\n",
        "\n",
        "# 2 x 2 matrix\n",
        "a = np.array([[1, 2], [3, 4]])\n",
        "\n",
        "# 1 x 2 matrix\n",
        "b = np.array([[5,6]])\n",
        "\n",
        "# adding a new row\n",
        "c = np.concatenate((a,b), axis=0)\n",
        "\n",
        "print(c)"
      ]
    },
    {
      "cell_type": "markdown",
      "source": [
        "## Concatenation of columns\n",
        "\n",
        "Concatenation of columns requires that we transpose array `b` from a 1 x 2 matrix to a 2 x 1 matrix.\n",
        "\n",
        "The axis is set to 1 to add the transposed matrix to array `a` as a new column.\n",
        "\n",
        "**Example**\n",
        "\n"
      ],
      "metadata": {
        "id": "1inA_f-Tjf4V"
      }
    },
    {
      "cell_type": "code",
      "source": [
        "# 2 x 2 matrix\n",
        "a = np.array([[1, 2], [3, 4]])\n",
        "\n",
        "# 1 x 2 matrix\n",
        "b = np.array([[5,6]])\n",
        "\n",
        "# adding a new column\n",
        "# we must transpose the matrix b\n",
        "c = np.concatenate((a,b.T), axis=1)\n",
        "\n",
        "print(c)"
      ],
      "metadata": {
        "colab": {
          "base_uri": "https://localhost:8080/"
        },
        "id": "fKLaWx8gjpLo",
        "outputId": "473005f1-eb01-400a-c7fb-1163d82a1766"
      },
      "execution_count": null,
      "outputs": [
        {
          "output_type": "stream",
          "name": "stdout",
          "text": [
            "[[1 2 5]\n",
            " [3 4 6]]\n"
          ]
        }
      ]
    },
    {
      "cell_type": "markdown",
      "source": [
        "# Array splitting\n",
        "\n",
        "The opposite of concatenation is splitting.\n",
        "\n",
        "Array splitting is implemented by the functions `numpy.split()`, `numpy.hsplit()` and `numpy.vsplit()`.\n",
        "\n",
        "For each of these, we can pass a list of indices giving the split points.\n",
        "\n",
        "## Split\n",
        "\n",
        "**`numpy.split()`**\n",
        "\n",
        "> Syntax\n",
        "<font size=\"4\">\n",
        "```python\n",
        "numpy.split(ary, indices_or_sections, axis=0)\n",
        "```\n",
        "</font>\n",
        "\n",
        "Split an array into multiple sub-arrays as views into `ary`.\n",
        "\n",
        "*Parameters*:\n",
        "* `ary` : `ndarray`. Array to be divided into sub-arrays.\n",
        "* `indices_or_sections` : `int` or 1-D array.\n",
        "    * If `indices_or_sections` is an integer, N, the array will be divided into N equal arrays along axis.\n",
        "    * If `indices_or_sections` is a 1-D array of sorted integers, the entries indicate where along axis the array is split.\n",
        "* `axis` : `int`, optional. The axis along which to split, default is 0.\n",
        "\n",
        "*Returns*:\n",
        "* sub-arrays : list of ndarrays. A list of sub-arrays as views into `ary`.\n",
        "\n",
        "**Example**\n",
        "\n"
      ],
      "metadata": {
        "id": "kbGrLLALoQc8"
      }
    },
    {
      "cell_type": "code",
      "source": [
        "arr = np.arange(10, 19)\n",
        "\n",
        "arr1, arr2, arr3 = np.split(arr, 3)\n",
        "\n",
        "print(arr)\n",
        "print(arr1)\n",
        "print(arr2)\n",
        "print(arr3)"
      ],
      "metadata": {
        "colab": {
          "base_uri": "https://localhost:8080/"
        },
        "id": "cgr8MMhzqJXT",
        "outputId": "29d19e9e-2fd8-484a-b86f-531e622774d0"
      },
      "execution_count": null,
      "outputs": [
        {
          "output_type": "stream",
          "name": "stdout",
          "text": [
            "[10 11 12 13 14 15 16 17 18]\n",
            "[10 11 12]\n",
            "[13 14 15]\n",
            "[16 17 18]\n"
          ]
        }
      ]
    },
    {
      "cell_type": "code",
      "source": [
        "arr = np.arange(10, 19)\n",
        "\n",
        "arr1, arr2, arr3 = np.split(arr, [3,5])\n",
        "\n",
        "print(arr)\n",
        "print(arr1)\n",
        "print(arr2)\n",
        "print(arr3)"
      ],
      "metadata": {
        "colab": {
          "base_uri": "https://localhost:8080/"
        },
        "id": "Usj64pvlqYhD",
        "outputId": "d9a1b96f-334b-4f7c-b151-f17cd487e119"
      },
      "execution_count": null,
      "outputs": [
        {
          "output_type": "stream",
          "name": "stdout",
          "text": [
            "[10 11 12 13 14 15 16 17 18]\n",
            "[10 11 12]\n",
            "[13 14]\n",
            "[15 16 17 18]\n"
          ]
        }
      ]
    },
    {
      "cell_type": "markdown",
      "source": [
        "## Split vertically\n",
        "\n",
        "**`numpy.vsplit()`**\n",
        "\n",
        "> Syntax\n",
        "<font size=\"4\">\n",
        "```python\n",
        "numpy.vsplit(ary, indices_or_sections)\n",
        "```\n",
        "</font>\n",
        "\n",
        "Split an array into multiple sub-arrays vertically (row-wise).\n",
        "\n",
        "**Example**\n"
      ],
      "metadata": {
        "id": "Qbo8Kf3NFOOp"
      }
    },
    {
      "cell_type": "code",
      "source": [
        "arr = np.arange(16).reshape((4, 4))\n",
        "\n",
        "upper, lower = np.vsplit(arr, [2])\n",
        "\n",
        "print(arr)\n",
        "print(upper)\n",
        "print(lower)"
      ],
      "metadata": {
        "colab": {
          "base_uri": "https://localhost:8080/"
        },
        "id": "3eWYDWpnFlFZ",
        "outputId": "ac6c946d-5c9b-4ec4-83d6-1a22a2ab02a4"
      },
      "execution_count": null,
      "outputs": [
        {
          "output_type": "stream",
          "name": "stdout",
          "text": [
            "[[ 0  1  2  3]\n",
            " [ 4  5  6  7]\n",
            " [ 8  9 10 11]\n",
            " [12 13 14 15]]\n",
            "[[0 1 2 3]\n",
            " [4 5 6 7]]\n",
            "[[ 8  9 10 11]\n",
            " [12 13 14 15]]\n"
          ]
        }
      ]
    },
    {
      "cell_type": "markdown",
      "source": [
        "## Split horizontally\n",
        "\n",
        "**`numpy.hsplit()`**\n",
        "\n",
        "> Syntax\n",
        "<font size=\"4\">\n",
        "```python\n",
        "numpy.hsplit(ary, indices_or_sections)\n",
        "```\n",
        "</font>\n",
        "\n",
        "Split an array into multiple sub-arrays horizontally (column-wise).\n",
        "\n",
        "**Example**"
      ],
      "metadata": {
        "id": "sAACdEMzF_DU"
      }
    },
    {
      "cell_type": "code",
      "source": [
        "arr = np.arange(16).reshape((4, 4))\n",
        "\n",
        "left, right = np.hsplit(arr, [2])\n",
        "\n",
        "print(arr)\n",
        "print(left)\n",
        "print(right)"
      ],
      "metadata": {
        "colab": {
          "base_uri": "https://localhost:8080/"
        },
        "id": "CQFCFNrFGOIx",
        "outputId": "3e0af3f3-85c0-4818-e0af-27b5c58775af"
      },
      "execution_count": null,
      "outputs": [
        {
          "output_type": "stream",
          "name": "stdout",
          "text": [
            "[[ 0  1  2  3]\n",
            " [ 4  5  6  7]\n",
            " [ 8  9 10 11]\n",
            " [12 13 14 15]]\n",
            "[[ 0  1]\n",
            " [ 4  5]\n",
            " [ 8  9]\n",
            " [12 13]]\n",
            "[[ 2  3]\n",
            " [ 6  7]\n",
            " [10 11]\n",
            " [14 15]]\n"
          ]
        }
      ]
    }
  ]
}
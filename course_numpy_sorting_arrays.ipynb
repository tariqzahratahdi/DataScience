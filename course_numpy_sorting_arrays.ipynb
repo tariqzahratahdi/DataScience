{
  "nbformat": 4,
  "nbformat_minor": 0,
  "metadata": {
    "colab": {
      "provenance": []
    },
    "kernelspec": {
      "name": "python3",
      "display_name": "Python 3"
    },
    "language_info": {
      "name": "python"
    }
  },
  "cells": [
    {
      "cell_type": "markdown",
      "source": [
        "# Sorting arrays\n",
        "\n",
        "Ordering or sorting arrays of data is a very common numerical task.\n",
        "\n",
        "This is easy to complete when using the `numpy.sort()` function.\n",
        "\n",
        "## The sort method\n",
        "\n",
        "> Syntax\n",
        "<font size=\"4\">\n",
        "```python\n",
        "numpy.sort(a, axis=-1, kind=None, order=None)\n",
        "```\n",
        "</font>\n",
        "\n",
        "*Parameters*\n",
        "* `a` : the array to sort.\n",
        "* `axis` : `int` or `None`, optional. The axis along which the array will be sorted. The default is `-1`, which sorts along the last axis.\n",
        "* `kind` : {‘quicksort’, ‘mergesort’, ‘heapsort’, ‘stable’}, optional. The sorting algorithm. The default is ‘quicksort’.\n",
        "\n",
        "Sorting is performed in ascending order.\n"
      ],
      "metadata": {
        "id": "eOWBUlXsRxUk"
      }
    },
    {
      "cell_type": "code",
      "source": [
        "import numpy as np\n",
        "\n",
        "a = np.random.randint(10, 99, 9)\n",
        "arr1 = a.reshape(3, 3)\n",
        "\n",
        "print(arr1)\n",
        "\n",
        "# sort\n",
        "arr2 = np.sort(arr1)\n",
        "\n",
        "print(arr2)"
      ],
      "metadata": {
        "colab": {
          "base_uri": "https://localhost:8080/"
        },
        "id": "R3ApCLrqTLiS",
        "outputId": "1ea94cc0-9c68-4d34-d865-4679dec26cb1"
      },
      "execution_count": null,
      "outputs": [
        {
          "output_type": "stream",
          "name": "stdout",
          "text": [
            "[[48 50 35]\n",
            " [25 53 33]\n",
            " [51 14 17]]\n",
            "[[35 48 50]\n",
            " [25 33 53]\n",
            " [14 17 51]]\n"
          ]
        }
      ]
    },
    {
      "cell_type": "markdown",
      "source": [
        "## Sort and flatten\n",
        "\n",
        "To flatten the array when sorting add `axis=None` to the sort call."
      ],
      "metadata": {
        "id": "KFTc4wO-TgMJ"
      }
    },
    {
      "cell_type": "code",
      "execution_count": null,
      "metadata": {
        "colab": {
          "base_uri": "https://localhost:8080/"
        },
        "id": "m7ZapOTaRvYu",
        "outputId": "83e8a680-54d7-4360-8c6e-98caa16b6652"
      },
      "outputs": [
        {
          "output_type": "stream",
          "name": "stdout",
          "text": [
            "[[58 38 51]\n",
            " [39 69 13]\n",
            " [80 35 18]]\n",
            "[13 18 35 38 39 51 58 69 80]\n"
          ]
        }
      ],
      "source": [
        "a = np.random.randint(10, 99, 9)\n",
        "arr1 = a.reshape(3, 3)\n",
        "\n",
        "print(arr1)\n",
        "\n",
        "# sort and flatten array\n",
        "arr2 = np.sort(arr1, axis=None)\n",
        "\n",
        "print(arr2)"
      ]
    },
    {
      "cell_type": "markdown",
      "source": [
        "## Sort Each Row\n",
        "\n",
        "To sort each row of a 2D array in ascending order you need to specify the axis along which to sort. In this case we need to sort along axis=1."
      ],
      "metadata": {
        "id": "USoHcJk1c4h9"
      }
    },
    {
      "cell_type": "code",
      "source": [
        "a = np.random.randint(10, 99, 9)\n",
        "arr1 = a.reshape(3, 3)\n",
        "\n",
        "print(arr1)\n",
        "\n",
        "# sort each row\n",
        "arr2 = np.sort(arr1, axis=1)\n",
        "\n",
        "print(arr2)"
      ],
      "metadata": {
        "colab": {
          "base_uri": "https://localhost:8080/"
        },
        "id": "rjt6x_VWdHdw",
        "outputId": "182b58c9-4ac5-4829-afae-62a9147a4a8f"
      },
      "execution_count": null,
      "outputs": [
        {
          "output_type": "stream",
          "name": "stdout",
          "text": [
            "[[89 42 50]\n",
            " [86 29 80]\n",
            " [72 25 29]]\n",
            "[[42 50 89]\n",
            " [29 80 86]\n",
            " [25 29 72]]\n"
          ]
        }
      ]
    },
    {
      "cell_type": "markdown",
      "source": [
        "## Sort Each Column\n",
        "\n",
        "This works in the same way as row sorting except that now you are sorting along axis=0."
      ],
      "metadata": {
        "id": "JjhI5ZPCdfum"
      }
    },
    {
      "cell_type": "code",
      "source": [
        "a = np.random.randint(10, 99, 9)\n",
        "arr1 = a.reshape(3, 3)\n",
        "\n",
        "print(arr1)\n",
        "\n",
        "# sort each column\n",
        "arr2 = np.sort(arr1, axis=0)\n",
        "\n",
        "print(arr2)"
      ],
      "metadata": {
        "colab": {
          "base_uri": "https://localhost:8080/"
        },
        "id": "y4CW91sKdklr",
        "outputId": "68b00dc5-5017-461d-9ed2-d5afc997cdef"
      },
      "execution_count": null,
      "outputs": [
        {
          "output_type": "stream",
          "name": "stdout",
          "text": [
            "[[81 59 25]\n",
            " [27 65 96]\n",
            " [44 57 92]]\n",
            "[[27 57 25]\n",
            " [44 59 92]\n",
            " [81 65 96]]\n"
          ]
        }
      ]
    }
  ]
}
{
  "nbformat": 4,
  "nbformat_minor": 0,
  "metadata": {
    "colab": {
      "provenance": [],
      "authorship_tag": "ABX9TyOCU0p+W7IbL2LGNgEwld0i"
    },
    "kernelspec": {
      "name": "python3",
      "display_name": "Python 3"
    },
    "language_info": {
      "name": "python"
    }
  },
  "cells": [
    {
      "cell_type": "markdown",
      "source": [
        "# Pandas Series\n",
        "\n",
        "A Pandas `Series` is a one-dimensional array of indexed data.\n",
        "\n",
        "It can be created from a list or array.\n",
        "\n",
        "**Example**"
      ],
      "metadata": {
        "id": "fsvDonISACR2"
      }
    },
    {
      "cell_type": "code",
      "execution_count": null,
      "metadata": {
        "colab": {
          "base_uri": "https://localhost:8080/"
        },
        "id": "TFJwpsiS_Jzl",
        "outputId": "98798631-76fc-49b5-9c3b-34b0c1ec307f"
      },
      "outputs": [
        {
          "output_type": "stream",
          "name": "stdout",
          "text": [
            "0    0.25\n",
            "1    0.50\n",
            "2    0.75\n",
            "3    1.00\n",
            "dtype: float64\n",
            "[0.25 0.5  0.75 1.  ]\n",
            "RangeIndex(start=0, stop=4, step=1)\n"
          ]
        }
      ],
      "source": [
        "# importing pandas\n",
        "import pandas as pd\n",
        "\n",
        "data = pd.Series([0.25, 0.5, 0.75, 1.0])\n",
        "\n",
        "print(data)\n",
        "print(data.values)\n",
        "print(data.index)"
      ]
    },
    {
      "cell_type": "markdown",
      "source": [
        "The `Series` wraps both a sequence of values and a sequence of indices, which we can access with the `values` and `index` attributes. The values are simply a familiar NumPy array.\n",
        "\n",
        "# `Series` as generalized NumPy `array`.\n",
        "\n",
        "The Pandas `Series` is much more general and flexible than the one-dimensional NumPy `array` that it emulates.\n",
        "\n",
        "It may look like the `Series` object is basically interchangeable with a one-dimensional NumPy `array`.\n",
        "\n",
        "The essential difference is the presence of the index: while the NumPy `array` has an implicitly defined integer index used to access the values, the Pandas `Series` has an explicitly defined index associated with the values.\n",
        "\n",
        "This explicit index definition gives the `Series` object additional capabilities. For example, the index need not be an integer, but can consist of values of any desired type.\n",
        "\n",
        "**Example**: we can use strings as an index."
      ],
      "metadata": {
        "id": "CxIgk_5-AuPm"
      }
    },
    {
      "cell_type": "code",
      "source": [
        "data = pd.Series([0.25, 0.5, 0.75, 1.0], index=['first', 'second', 'third', 'fourth'])\n",
        "\n",
        "print(data)\n",
        "print(data.values)\n",
        "print(data.index)\n",
        "\n",
        "print(data['second'])"
      ],
      "metadata": {
        "colab": {
          "base_uri": "https://localhost:8080/"
        },
        "id": "pGOuieDmBXx8",
        "outputId": "9bbf0156-0bef-4a29-abba-a8cbb00a88e3"
      },
      "execution_count": null,
      "outputs": [
        {
          "output_type": "stream",
          "name": "stdout",
          "text": [
            "first     0.25\n",
            "second    0.50\n",
            "third     0.75\n",
            "fourth    1.00\n",
            "dtype: float64\n",
            "[0.25 0.5  0.75 1.  ]\n",
            "Index(['first', 'second', 'third', 'fourth'], dtype='object')\n",
            "0.5\n"
          ]
        }
      ]
    },
    {
      "cell_type": "markdown",
      "source": [
        "# `Series` as specialized dictionary\n",
        "\n",
        "In this way, you can think of a Pandas `Series` a bit like a specialization of a Python dictionary.\n",
        "\n",
        "A dictionary is a structure that maps arbitrary keys to a set of arbitrary values, and a `Series` is a structure that maps typed keys to a set of typed values.\n",
        "\n",
        "We can make the Series-as-dictionary analogy even more clear by constructing a `Series` object directly from a Python dictionary.\n",
        "\n",
        "Unlike a dictionary, though, the `Series` also supports array-style operations such as slicing.\n",
        "\n",
        "**Example**"
      ],
      "metadata": {
        "id": "zakYVCKABzwi"
      }
    },
    {
      "cell_type": "code",
      "source": [
        "population_dict = {\n",
        "'California': 38332521,\n",
        "'Texas': 26448193,\n",
        "'New York': 19651127,\n",
        "'Florida': 19552860,\n",
        "'Illinois': 12882135\n",
        "}\n",
        "\n",
        "population = pd.Series(population_dict)\n",
        "\n",
        "print(population)\n",
        "\n",
        "print(population['California' : 'New York'])"
      ],
      "metadata": {
        "colab": {
          "base_uri": "https://localhost:8080/"
        },
        "id": "rSX0mxOKCNGA",
        "outputId": "796b34bc-9292-419b-d3e4-edf27cd16006"
      },
      "execution_count": null,
      "outputs": [
        {
          "output_type": "stream",
          "name": "stdout",
          "text": [
            "California    38332521\n",
            "Texas         26448193\n",
            "New York      19651127\n",
            "Florida       19552860\n",
            "Illinois      12882135\n",
            "dtype: int64\n",
            "California    38332521\n",
            "Texas         26448193\n",
            "New York      19651127\n",
            "dtype: int64\n"
          ]
        }
      ]
    }
  ]
}
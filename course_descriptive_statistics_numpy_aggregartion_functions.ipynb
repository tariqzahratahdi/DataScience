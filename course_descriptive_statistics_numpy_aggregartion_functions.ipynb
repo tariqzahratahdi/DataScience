{
  "nbformat": 4,
  "nbformat_minor": 0,
  "metadata": {
    "colab": {
      "provenance": [],
      "authorship_tag": "ABX9TyMQBygkYlQu9Q/uXBDbmpnv"
    },
    "kernelspec": {
      "name": "python3",
      "display_name": "Python 3"
    },
    "language_info": {
      "name": "python"
    }
  },
  "cells": [
    {
      "cell_type": "markdown",
      "source": [
        "# Numpy Aggregation Functions\n",
        "\n",
        "NumPy provides aggregation functions to compute summary statistics on arrays.\n",
        "\n",
        "The most common summary statistics are the mean and standard deviation.\n",
        "\n",
        "Other aggregates are useful as well such as the sum, product, median, minimum, maximum, quantiles, etc."
      ],
      "metadata": {
        "id": "dsf6VQxb22zb"
      }
    },
    {
      "cell_type": "markdown",
      "source": [
        "## Aggregation functions\n",
        "\n",
        "|Function name|NaN-safe Version|Description|\n",
        "|:---|:---|:---|\n",
        "|np.sum|np.nansum|Compute sum of elements|\n",
        "|np.prod|np.nanprod|Compute product of elements|\n",
        "|np.median|np.nanmedian|Compute median of elements|\n",
        "|np.mean|np.nanmean|Compute mean of elements|\n",
        "|np.std|np.nanstd|Compute standard deviation|\n",
        "|np.var|np.nanvar|Compute variance|\n",
        "|np.min|np.nanmin|Find minimum value|\n",
        "|np.max|np.nanmax|Find maximum value|\n",
        "|np.percentile|np.nanpercentile|Compute rank-based statistics of elements|"
      ],
      "metadata": {
        "id": "5bRY8j5S6lw7"
      }
    },
    {
      "cell_type": "markdown",
      "source": [
        "## Five-number summary\n",
        "\n",
        "The five-number summary is a set of descriptive statistics that provides information about a dataset. It consists of the five most important sample percentiles: minimum, lower quartile, median, upper quartile and maximum.\n",
        "\n",
        "**Example**: we use the `np.percentile` function to compute the five-number summary of a dataset."
      ],
      "metadata": {
        "id": "HK54SOqCj1vn"
      }
    },
    {
      "cell_type": "code",
      "source": [
        "import numpy as np\n",
        "\n",
        "data = np.random.randint(1, 100, 13)\n",
        "\n",
        "print(np.sort(data))\n",
        "\n",
        "# Five-number summary\n",
        "summary = np.percentile(data, [0, 25, 50, 75, 100], method=\"midpoint\")\n",
        "\n",
        "print(summary)"
      ],
      "metadata": {
        "colab": {
          "base_uri": "https://localhost:8080/"
        },
        "id": "f9ypdbzz3B8O",
        "outputId": "c6aa4edf-6dcd-402a-f0fa-0462dcf31eda"
      },
      "execution_count": null,
      "outputs": [
        {
          "output_type": "stream",
          "name": "stdout",
          "text": [
            "[ 3  3 41 52 66 67 72 75 76 83 84 85 98]\n",
            "[ 3. 52. 72. 83. 98.]\n"
          ]
        }
      ]
    }
  ]
}
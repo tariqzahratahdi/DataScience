{
  "nbformat": 4,
  "nbformat_minor": 0,
  "metadata": {
    "colab": {
      "provenance": [],
      "authorship_tag": "ABX9TyMDlvEWEU81GjxQ82ONFcLr",
      "include_colab_link": true
    },
    "kernelspec": {
      "name": "python3",
      "display_name": "Python 3"
    },
    "language_info": {
      "name": "python"
    }
  },
  "cells": [
    {
      "cell_type": "markdown",
      "metadata": {
        "id": "view-in-github",
        "colab_type": "text"
      },
      "source": [
        "<a href=\"https://colab.research.google.com/github/tariqzahratahdi/DataScience/blob/main/course_pandas_series_fr.ipynb\" target=\"_parent\"><img src=\"https://colab.research.google.com/assets/colab-badge.svg\" alt=\"Open In Colab\"/></a>"
      ]
    },
    {
      "cell_type": "markdown",
      "source": [
        "# Series Pandas\n",
        "\n",
        "Un `Series` Pandas est un array unidimensionnel de données indexées.\n",
        "\n",
        "Il peut être créé à partir d'un `list` ou d'un array.\n",
        "\n",
        "**Exemple**"
      ],
      "metadata": {
        "id": "fsvDonISACR2"
      }
    },
    {
      "cell_type": "code",
      "execution_count": null,
      "metadata": {
        "colab": {
          "base_uri": "https://localhost:8080/"
        },
        "id": "TFJwpsiS_Jzl",
        "outputId": "a286fe8b-07d0-48f3-c514-fc39383f6a3b"
      },
      "outputs": [
        {
          "output_type": "stream",
          "name": "stdout",
          "text": [
            "0    0.25\n",
            "1    0.50\n",
            "2    0.75\n",
            "3    1.00\n",
            "dtype: float64\n",
            "[0.25 0.5  0.75 1.  ]\n",
            "RangeIndex(start=0, stop=4, step=1)\n"
          ]
        }
      ],
      "source": [
        "# importing pandas\n",
        "import pandas as pd\n",
        "\n",
        "data = pd.Series([0.25, 0.5, 0.75, 1.0])\n",
        "\n",
        "print(data)\n",
        "print(data.values)\n",
        "print(data.index)"
      ]
    },
    {
      "cell_type": "markdown",
      "source": [
        "L'objet `Series` englobe à la fois une séquence de valeurs et une séquence d'indices, accessibles grâce aux attributs values et index. Les valeurs sont simplement un array NumPy familier.\n",
        "\n",
        "# `Series` comme tableau NumPy généralisé.\n",
        "\n",
        "L'objet `Series` de Pandas est beaucoup plus général et flexible que l'array NumPy unidimensionnel qu'il émule.\n",
        "\n",
        "On pourrait croire que l'objet `Series` est interchangeable avec un array NumPy unidimensionnel.\n",
        "\n",
        "La différence essentielle réside dans la présence de l'index: alors que l'array NumPy possède un index entier implicitement défini pour accéder aux valeurs, l'objet `Series` de Pandas possède un index explicitement défini associé aux valeurs.\n",
        "\n",
        "Cette définition d'index explicite confère à l'objet `Series` des fonctionnalités supplémentaires. Par exemple, l'index n'a pas besoin d'être un entier, mais peut être composé de valeurs de tout type souhaité.\n",
        "\n",
        "**Exemple**: nous pouvons utiliser des chaînes comme index."
      ],
      "metadata": {
        "id": "CxIgk_5-AuPm"
      }
    },
    {
      "cell_type": "code",
      "source": [
        "data = pd.Series([0.25, 0.5, 0.75, 1.0], index=['first', 'second', 'third', 'fourth'])\n",
        "\n",
        "print(data)\n",
        "print(data.values)\n",
        "print(data.index)\n",
        "print(data['second'])"
      ],
      "metadata": {
        "colab": {
          "base_uri": "https://localhost:8080/"
        },
        "id": "pGOuieDmBXx8",
        "outputId": "7faf6be9-edea-4856-9abe-b4d1a12e1448"
      },
      "execution_count": null,
      "outputs": [
        {
          "output_type": "stream",
          "name": "stdout",
          "text": [
            "first     0.25\n",
            "second    0.50\n",
            "third     0.75\n",
            "fourth    1.00\n",
            "dtype: float64\n",
            "[0.25 0.5  0.75 1.  ]\n",
            "Index(['first', 'second', 'third', 'fourth'], dtype='object')\n",
            "0.5\n"
          ]
        }
      ]
    },
    {
      "cell_type": "markdown",
      "source": [
        "# `Series` comme dictionnaire spécialisé\n",
        "\n",
        "De cette façon, on peut considérer un `Series` Pandas comme une spécialisation d'un dictionnaire Python.\n",
        "\n",
        "Un dictionnaire est une structure qui associe des clés arbitraires à un ensemble de valeurs arbitraires, et un `Series` est une structure qui associe des clés typées à un ensemble de valeurs typées.\n",
        "\n",
        "Nous pouvons rendre l'analogie du `Series` comme dictionnaire encore plus claire en construisant un objet `Series` directement à partir d'un dictionnaire Python.\n",
        "\n",
        "Contrairement à un dictionnaire, un `Series` prend également en charge les opérations de type array, comme le découpage.\n",
        "\n",
        "**Exemple**"
      ],
      "metadata": {
        "id": "zakYVCKABzwi"
      }
    },
    {
      "cell_type": "code",
      "source": [
        "population_dict = {\n",
        "'California': 38332521,\n",
        "'Texas': 26448193,\n",
        "'New York': 19651127,\n",
        "'Florida': 19552860,\n",
        "'Illinois': 12882135\n",
        "}\n",
        "\n",
        "population = pd.Series(population_dict)\n",
        "\n",
        "print(population)\n",
        "\n",
        "print(population['California' : 'New York'])"
      ],
      "metadata": {
        "colab": {
          "base_uri": "https://localhost:8080/"
        },
        "id": "rSX0mxOKCNGA",
        "outputId": "60257686-562b-476b-cf59-cc8e94750ae7"
      },
      "execution_count": null,
      "outputs": [
        {
          "output_type": "stream",
          "name": "stdout",
          "text": [
            "California    38332521\n",
            "Texas         26448193\n",
            "New York      19651127\n",
            "Florida       19552860\n",
            "Illinois      12882135\n",
            "dtype: int64\n",
            "California    38332521\n",
            "Texas         26448193\n",
            "New York      19651127\n",
            "dtype: int64\n"
          ]
        }
      ]
    }
  ]
}
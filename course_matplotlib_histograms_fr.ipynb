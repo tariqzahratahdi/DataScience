{
  "nbformat": 4,
  "nbformat_minor": 0,
  "metadata": {
    "colab": {
      "provenance": [],
      "authorship_tag": "ABX9TyMVKjSiTK25Cu7Wr0ODNV2Z",
      "include_colab_link": true
    },
    "kernelspec": {
      "name": "python3",
      "display_name": "Python 3"
    },
    "language_info": {
      "name": "python"
    }
  },
  "cells": [
    {
      "cell_type": "markdown",
      "metadata": {
        "id": "view-in-github",
        "colab_type": "text"
      },
      "source": [
        "<a href=\"https://colab.research.google.com/github/tariqzahratahdi/DataScience/blob/main/course_matplotlib_histograms_fr.ipynb\" target=\"_parent\"><img src=\"https://colab.research.google.com/assets/colab-badge.svg\" alt=\"Open In Colab\"/></a>"
      ]
    },
    {
      "cell_type": "markdown",
      "source": [
        "# Histogrammes\n",
        "\n",
        "# Création d'un histogramme\n",
        "\n",
        "Un histogramme simple peut constituer une première étape dans la compréhension d'un ensemble de données.\n",
        "\n",
        "Les histogrammes sont excellents pour illustrer la distribution des données.\n",
        "\n",
        "Un histogramme sert essentiellement à représenter des données sous forme de groupes.\n",
        "\n",
        "Par exemple, vous pouvez afficher la distribution des âges d'une population ou des salaires d'une ville.\n",
        "\n",
        "Un histogramme affiche des données numériques en les regroupant en «classes» de largeur égale. Chaque classe est représentée par une barre dont la hauteur correspond au nombre de points qu'elle contient.\n",
        "\n",
        "Dans un histogramme, l'axe des X représente les intervalles de classes, tandis que l'axe des Y renseigne sur la fréquence.\n",
        "\n",
        "La fonction `pyplot.hist()` permet de calculer et de tracer un histogramme.\n",
        "\n",
        "**Example**"
      ],
      "metadata": {
        "id": "en9MZatIncot"
      }
    },
    {
      "cell_type": "code",
      "execution_count": 1,
      "metadata": {
        "colab": {
          "base_uri": "https://localhost:8080/",
          "height": 425
        },
        "id": "VWB4q3NonNyZ",
        "outputId": "1f0066b6-0228-46d4-d60c-6134957ea67e"
      },
      "outputs": [
        {
          "output_type": "display_data",
          "data": {
            "text/plain": [
              "<Figure size 640x480 with 1 Axes>"
            ],
            "image/png": "[encoded data removed]"
          },
          "metadata": {}
        }
      ],
      "source": [
        "import numpy as np\n",
        "import matplotlib.pyplot as plt\n",
        "\n",
        "plt.style.use('seaborn-v0_8-whitegrid')\n",
        "\n",
        "# making data from a normal distribution\n",
        "data = np.random.randn(1000)\n",
        "\n",
        "# setting figure\n",
        "plt.hist(data, bins=12, linewidth=0.5, edgecolor=\"white\")\n",
        "\n",
        "# plotting figure\n",
        "plt.show()"
      ]
    },
    {
      "cell_type": "markdown",
      "source": [
        "Si le paramètre `bins` est un entier, il définit le nombre de barres de largeur égale dans la plage.<br>\n",
        "Si `bins` est une séquence, il définit les bords des barres.<br>\n",
        "Par exemple, si `bins` est:\n",
        "```python\n",
        "[1, 2, 3, 4]\n",
        "```\n",
        "alors, la première barre est `[1, 2)`, la seconde `[2, 3)` et la dernière `[3, 4]`.\n",
        "\n",
        "La fonction `pyplot.hist()` renvoie:\n",
        "* `n`: `array` ou `list` d'arrays. Les valeurs des barres de l'histogramme.\n",
        "* `bins`: `array`. Les bords des barres."
      ],
      "metadata": {
        "id": "tDdeTqJbMWC7"
      }
    }
  ]
}
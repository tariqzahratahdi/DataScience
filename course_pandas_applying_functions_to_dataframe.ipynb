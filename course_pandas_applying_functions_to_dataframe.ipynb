{
  "nbformat": 4,
  "nbformat_minor": 0,
  "metadata": {
    "colab": {
      "provenance": [],
      "authorship_tag": "ABX9TyMZFtYGdihCPZXCusOfsh8R"
    },
    "kernelspec": {
      "name": "python3",
      "display_name": "Python 3"
    },
    "language_info": {
      "name": "python"
    }
  },
  "cells": [
    {
      "cell_type": "markdown",
      "source": [
        "# Applying Functions to a DataFrame\n",
        "\n",
        "The **`apply()`** method in pandas is a versatile function used to apply a user-defined or built-in function along an axis of a DataFrame or to elements of a Series.\n",
        "\n",
        "### Key Features:\n",
        "\n",
        "**Function Application:**\n",
        "\n",
        "It takes a function (`func`) as an argument and applies it to each element (when used on a Series), or to each row or column (when used on a DataFrame).\n",
        "\n",
        "**Axis Specification:**\n",
        "\n",
        "The `axis` parameter determines whether the function is applied column-wise (`axis=0` or `'index'`, the default) or row-wise (`axis=1` or `'columns'`).\n",
        "\n",
        "**Flexibility:**\n",
        "\n",
        "It can be used with various types of functions, including:\n",
        "* Built-in functions: e.g., `np.mean`, `sum`.\n",
        "* User-defined functions: Custom functions created to perform specific operations.\n",
        "* Lambda functions: Anonymous, single-expression functions for concise operations.\n",
        "\n",
        "**Return Type:**\n",
        "\n",
        "The `apply()` method returns a Series or DataFrame, depending on the nature of the applied function.\n"
      ],
      "metadata": {
        "id": "q0pMUf5jWvmz"
      }
    },
    {
      "cell_type": "code",
      "execution_count": 8,
      "metadata": {
        "id": "ZhV8O4LQWn3H"
      },
      "outputs": [],
      "source": [
        "# importing pandas\n",
        "import pandas as pd\n",
        "\n",
        "# csv file location\n",
        "url = 'https://dq-content.s3.amazonaws.com/291/f500.csv'\n",
        "\n",
        "# making data frame from csv file\n",
        "data = pd.read_csv(url, index_col = 'company')\n",
        "\n",
        "# drop NaN\n",
        "data = data.dropna()"
      ]
    },
    {
      "cell_type": "markdown",
      "source": [
        "**Example:** calculate the rank change which is the difference between the values of the two columns `previous_rank` and `rank`. First we will select only rows with `previous_rank` value not zero."
      ],
      "metadata": {
        "id": "ZbzZxbOnYWxF"
      }
    },
    {
      "cell_type": "code",
      "source": [
        "# select only rows with previous_rank value not zero.\n",
        "data_selected = data[data['previous_rank'] != 0]\n",
        "\n",
        "# set user-defined function\n",
        "def rank_change(row):\n",
        "  return row['previous_rank'] - row['rank']\n",
        "\n",
        "# apply user-defined function\n",
        "data_selected.apply(rank_change, axis=1)"
      ],
      "metadata": {
        "colab": {
          "base_uri": "https://localhost:8080/",
          "height": 489
        },
        "id": "JvU7O6VBYyjD",
        "outputId": "56479f60-7e52-4f8a-a3b8-51fd1d22c8a9"
      },
      "execution_count": 9,
      "outputs": [
        {
          "output_type": "execute_result",
          "data": {
            "text/plain": [
              "company\n",
              "Walmart                        0\n",
              "State Grid                     0\n",
              "Sinopec Group                  1\n",
              "China National Petroleum      -1\n",
              "Toyota Motor                   3\n",
              "                            ... \n",
              "China General Technology    -107\n",
              "National Grid                -20\n",
              "New China Life Insurance     -70\n",
              "Wm. Morrison Supermarkets    -61\n",
              "TUI                          -32\n",
              "Length: 410, dtype: int64"
            ],
            "text/html": [
              "<div>\n",
              "<style scoped>\n",
              "    .dataframe tbody tr th:only-of-type {\n",
              "        vertical-align: middle;\n",
              "    }\n",
              "\n",
              "    .dataframe tbody tr th {\n",
              "        vertical-align: top;\n",
              "    }\n",
              "\n",
              "    .dataframe thead th {\n",
              "        text-align: right;\n",
              "    }\n",
              "</style>\n",
              "<table border=\"1\" class=\"dataframe\">\n",
              "  <thead>\n",
              "    <tr style=\"text-align: right;\">\n",
              "      <th></th>\n",
              "      <th>0</th>\n",
              "    </tr>\n",
              "    <tr>\n",
              "      <th>company</th>\n",
              "      <th></th>\n",
              "    </tr>\n",
              "  </thead>\n",
              "  <tbody>\n",
              "    <tr>\n",
              "      <th>Walmart</th>\n",
              "      <td>0</td>\n",
              "    </tr>\n",
              "    <tr>\n",
              "      <th>State Grid</th>\n",
              "      <td>0</td>\n",
              "    </tr>\n",
              "    <tr>\n",
              "      <th>Sinopec Group</th>\n",
              "      <td>1</td>\n",
              "    </tr>\n",
              "    <tr>\n",
              "      <th>China National Petroleum</th>\n",
              "      <td>-1</td>\n",
              "    </tr>\n",
              "    <tr>\n",
              "      <th>Toyota Motor</th>\n",
              "      <td>3</td>\n",
              "    </tr>\n",
              "    <tr>\n",
              "      <th>...</th>\n",
              "      <td>...</td>\n",
              "    </tr>\n",
              "    <tr>\n",
              "      <th>China General Technology</th>\n",
              "      <td>-107</td>\n",
              "    </tr>\n",
              "    <tr>\n",
              "      <th>National Grid</th>\n",
              "      <td>-20</td>\n",
              "    </tr>\n",
              "    <tr>\n",
              "      <th>New China Life Insurance</th>\n",
              "      <td>-70</td>\n",
              "    </tr>\n",
              "    <tr>\n",
              "      <th>Wm. Morrison Supermarkets</th>\n",
              "      <td>-61</td>\n",
              "    </tr>\n",
              "    <tr>\n",
              "      <th>TUI</th>\n",
              "      <td>-32</td>\n",
              "    </tr>\n",
              "  </tbody>\n",
              "</table>\n",
              "<p>410 rows × 1 columns</p>\n",
              "</div><br><label><b>dtype:</b> int64</label>"
            ]
          },
          "metadata": {},
          "execution_count": 9
        }
      ]
    },
    {
      "cell_type": "markdown",
      "source": [
        "### Lambda Function\n",
        "\n",
        "A lambda function is an anonymous, single-expression function for concise operations.\n",
        "\n",
        "A lambda function is useful when we want to create a temporary function to use once.\n",
        "\n",
        "**Example:** a lambda function that calculates the mean of three numbers:"
      ],
      "metadata": {
        "id": "rkCEU_epP9WN"
      }
    },
    {
      "cell_type": "code",
      "source": [
        "# define lambda function\n",
        "mean_lambda = lambda a,b,c:(a+b+c)/3\n",
        "\n",
        "# call lambda function\n",
        "mean_lambda(1,2,3)\n"
      ],
      "metadata": {
        "colab": {
          "base_uri": "https://localhost:8080/"
        },
        "id": "7dVLui1CQgeo",
        "outputId": "4f034548-8d7e-484d-fa4a-68a468821c50"
      },
      "execution_count": 6,
      "outputs": [
        {
          "output_type": "execute_result",
          "data": {
            "text/plain": [
              "2.0"
            ]
          },
          "metadata": {},
          "execution_count": 6
        }
      ]
    },
    {
      "cell_type": "markdown",
      "source": [
        "**Example:** calculate the rank change using a lambda function:"
      ],
      "metadata": {
        "id": "Wkdoyq_mVE8A"
      }
    },
    {
      "cell_type": "code",
      "source": [
        "data_selected.apply(lambda row: row['previous_rank'] - row['rank'], axis=1)"
      ],
      "metadata": {
        "colab": {
          "base_uri": "https://localhost:8080/",
          "height": 489
        },
        "id": "as9tnkzEYHnA",
        "outputId": "15d10bfa-b579-48d1-ce90-8cfea72bfb4e"
      },
      "execution_count": 23,
      "outputs": [
        {
          "output_type": "execute_result",
          "data": {
            "text/plain": [
              "company\n",
              "Walmart                        0\n",
              "State Grid                     0\n",
              "Sinopec Group                  1\n",
              "China National Petroleum      -1\n",
              "Toyota Motor                   3\n",
              "                            ... \n",
              "China General Technology    -107\n",
              "National Grid                -20\n",
              "New China Life Insurance     -70\n",
              "Wm. Morrison Supermarkets    -61\n",
              "TUI                          -32\n",
              "Length: 410, dtype: int64"
            ],
            "text/html": [
              "<div>\n",
              "<style scoped>\n",
              "    .dataframe tbody tr th:only-of-type {\n",
              "        vertical-align: middle;\n",
              "    }\n",
              "\n",
              "    .dataframe tbody tr th {\n",
              "        vertical-align: top;\n",
              "    }\n",
              "\n",
              "    .dataframe thead th {\n",
              "        text-align: right;\n",
              "    }\n",
              "</style>\n",
              "<table border=\"1\" class=\"dataframe\">\n",
              "  <thead>\n",
              "    <tr style=\"text-align: right;\">\n",
              "      <th></th>\n",
              "      <th>0</th>\n",
              "    </tr>\n",
              "    <tr>\n",
              "      <th>company</th>\n",
              "      <th></th>\n",
              "    </tr>\n",
              "  </thead>\n",
              "  <tbody>\n",
              "    <tr>\n",
              "      <th>Walmart</th>\n",
              "      <td>0</td>\n",
              "    </tr>\n",
              "    <tr>\n",
              "      <th>State Grid</th>\n",
              "      <td>0</td>\n",
              "    </tr>\n",
              "    <tr>\n",
              "      <th>Sinopec Group</th>\n",
              "      <td>1</td>\n",
              "    </tr>\n",
              "    <tr>\n",
              "      <th>China National Petroleum</th>\n",
              "      <td>-1</td>\n",
              "    </tr>\n",
              "    <tr>\n",
              "      <th>Toyota Motor</th>\n",
              "      <td>3</td>\n",
              "    </tr>\n",
              "    <tr>\n",
              "      <th>...</th>\n",
              "      <td>...</td>\n",
              "    </tr>\n",
              "    <tr>\n",
              "      <th>China General Technology</th>\n",
              "      <td>-107</td>\n",
              "    </tr>\n",
              "    <tr>\n",
              "      <th>National Grid</th>\n",
              "      <td>-20</td>\n",
              "    </tr>\n",
              "    <tr>\n",
              "      <th>New China Life Insurance</th>\n",
              "      <td>-70</td>\n",
              "    </tr>\n",
              "    <tr>\n",
              "      <th>Wm. Morrison Supermarkets</th>\n",
              "      <td>-61</td>\n",
              "    </tr>\n",
              "    <tr>\n",
              "      <th>TUI</th>\n",
              "      <td>-32</td>\n",
              "    </tr>\n",
              "  </tbody>\n",
              "</table>\n",
              "<p>410 rows × 1 columns</p>\n",
              "</div><br><label><b>dtype:</b> int64</label>"
            ]
          },
          "metadata": {},
          "execution_count": 23
        }
      ]
    }
  ]
}
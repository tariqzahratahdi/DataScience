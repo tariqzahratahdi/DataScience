{
  "nbformat": 4,
  "nbformat_minor": 0,
  "metadata": {
    "colab": {
      "provenance": [],
      "authorship_tag": "ABX9TyOyU/2kqtpLQRpqeNd8nHBn"
    },
    "kernelspec": {
      "name": "python3",
      "display_name": "Python 3"
    },
    "language_info": {
      "name": "python"
    }
  },
  "cells": [
    {
      "cell_type": "markdown",
      "source": [
        "# Concaténation et Fractionnement d'un Array\n",
        "\n",
        "# Concaténation d'un array\n",
        "\n",
        "La fonction de concaténation de NumPy fournit une méthode pour joindre des séquences d'arrays le long d'un axe existant.\n",
        "\n",
        "Si on a besoin de construire une matrice à partir d'un ensemble de arrays plus petits, on utilise la fonction `numpy.concatenate()`.\n",
        "\n",
        "> Syntaxe\n",
        "<font size = \"4\">\n",
        "```python\n",
        "numpy.concatenate((a1, a2, …), axis=0)\n",
        "```\n",
        "</font>\n",
        "\n",
        "Le paramètre `axis` définit l'axe ou la dimension sur laquelle les arrays doivent être joints. L'axe par défaut `axis=0` joindra sur l'axe zéro.\n",
        "\n",
        "## Concaténation des lignes\n",
        "\n",
        "Pour concaténer deux arrays `a` et `b` le long de l'axe des lignes, on définit `axis=0`. Cela ajoutera l'array `b` en tant que nouvelle ligne sous l'array `a`.\n",
        "\n",
        "**Exemple**\n",
        "\n"
      ],
      "metadata": {
        "id": "xT9x2O1dinXi"
      }
    },
    {
      "cell_type": "code",
      "execution_count": null,
      "metadata": {
        "colab": {
          "base_uri": "https://localhost:8080/"
        },
        "id": "4cdVl-w5ilGk",
        "outputId": "5b72b00a-a889-4438-c717-9b6856a28608"
      },
      "outputs": [
        {
          "output_type": "stream",
          "name": "stdout",
          "text": [
            "[[1 2]\n",
            " [3 4]\n",
            " [5 6]]\n"
          ]
        }
      ],
      "source": [
        "import numpy as np\n",
        "\n",
        "# 2 x 2 matrix\n",
        "a = np.array([[1, 2], [3, 4]])\n",
        "\n",
        "# 1 x 2 matrix\n",
        "b = np.array([[5,6]])\n",
        "\n",
        "# adding a new row\n",
        "c = np.concatenate((a,b), axis=0)\n",
        "\n",
        "print(c)"
      ]
    },
    {
      "cell_type": "markdown",
      "source": [
        "## Concaténation des colonnes\n",
        "\n",
        "La concaténation des colonnes nécessite de transformer l'array `b` d'une matrice 1 x 2 vers une matrice 2 x 1.\n",
        "\n",
        "L'axe est défini sur 1 pour ajouter la matrice transposée à l'array `a` en tant que nouvelle colonne.\n",
        "\n",
        "**Exemple**\n",
        "\n"
      ],
      "metadata": {
        "id": "1inA_f-Tjf4V"
      }
    },
    {
      "cell_type": "code",
      "source": [
        "# 2 x 2 matrix\n",
        "a = np.array([[1, 2], [3, 4]])\n",
        "\n",
        "# 1 x 2 matrix\n",
        "b = np.array([[5,6]])\n",
        "\n",
        "# adding a new column\n",
        "# we must transpose the matrix b\n",
        "c = np.concatenate((a,b.T), axis=1)\n",
        "\n",
        "print(c)"
      ],
      "metadata": {
        "colab": {
          "base_uri": "https://localhost:8080/"
        },
        "id": "fKLaWx8gjpLo",
        "outputId": "473005f1-eb01-400a-c7fb-1163d82a1766"
      },
      "execution_count": null,
      "outputs": [
        {
          "output_type": "stream",
          "name": "stdout",
          "text": [
            "[[1 2 5]\n",
            " [3 4 6]]\n"
          ]
        }
      ]
    },
    {
      "cell_type": "markdown",
      "source": [
        "# Fractionnement d'un array\n",
        "\n",
        "Le fractionnement est l'opposé de la concaténation.\n",
        "\n",
        "La fractionnement de l'array est implémentée par les fonctions `numpy.split()`, `numpy.hsplit()` et `numpy.vsplit()`.\n",
        "\n",
        "Pour chacune d'elles, on peut passer une liste d'indices donnant les points de fractionnement.\n",
        "\n",
        "## Fractionner\n",
        "\n",
        "**`numpy.split()`**\n",
        "\n",
        "> Syntaxe\n",
        "<font size = \"4\">\n",
        "```python\n",
        "numpy.split(ary, indices_or_sections, axis=0)\n",
        "```\n",
        "</font>\n",
        "\n",
        "Fractionner un array en plusieurs sous-arrays en tant que vues dans `ary`.\n",
        "\n",
        "*Paramètres*:\n",
        "* `ary`: `ndarray`. Array à fractionner en sous-arrays.\n",
        "* `indices_or_sections`: `int` ou array  1-D.\n",
        "    * Si `indices_or_sections` est un entier, N, l'array sera fractionné en N arrays égaux le long de l'axe.\n",
        "    * Si `indices_or_sections` est un array 1-D d'entiers triés, les entrées indiquent où le long de l'axe, l'array est fractionné.\n",
        "* `axis`: `int`, facultatif. L'axe le long duquel fractionner, la valeur par défaut est 0.\n",
        "\n",
        "*Retourne*:\n",
        "* sub-Arrays: Liste de ndarrays. Une liste de sous-arrays comme vues dans `ary`.\n",
        "\n",
        "**Exemple**\n",
        "\n"
      ],
      "metadata": {
        "id": "kbGrLLALoQc8"
      }
    },
    {
      "cell_type": "code",
      "source": [
        "arr = np.arange(10, 19)\n",
        "\n",
        "arr1, arr2, arr3 = np.split(arr, 3)\n",
        "\n",
        "print(arr)\n",
        "print(arr1)\n",
        "print(arr2)\n",
        "print(arr3)"
      ],
      "metadata": {
        "colab": {
          "base_uri": "https://localhost:8080/"
        },
        "id": "cgr8MMhzqJXT",
        "outputId": "5da5a24a-412e-4780-e211-da7b01e7f521"
      },
      "execution_count": null,
      "outputs": [
        {
          "output_type": "stream",
          "name": "stdout",
          "text": [
            "[10 11 12 13 14 15 16 17 18]\n",
            "[10 11 12]\n",
            "[13 14 15]\n",
            "[16 17 18]\n"
          ]
        }
      ]
    },
    {
      "cell_type": "code",
      "source": [
        "arr = np.arange(10, 19)\n",
        "\n",
        "arr1, arr2, arr3 = np.split(arr, [3,5])\n",
        "\n",
        "print(arr)\n",
        "print(arr1)\n",
        "print(arr2)\n",
        "print(arr3)"
      ],
      "metadata": {
        "colab": {
          "base_uri": "https://localhost:8080/"
        },
        "id": "Usj64pvlqYhD",
        "outputId": "d9a1b96f-334b-4f7c-b151-f17cd487e119"
      },
      "execution_count": null,
      "outputs": [
        {
          "output_type": "stream",
          "name": "stdout",
          "text": [
            "[10 11 12 13 14 15 16 17 18]\n",
            "[10 11 12]\n",
            "[13 14]\n",
            "[15 16 17 18]\n"
          ]
        }
      ]
    },
    {
      "cell_type": "markdown",
      "source": [
        "## Fractionnement vertical\n",
        "\n",
        "**`numpy.vsplit()`**\n",
        "\n",
        "> Syntaxe\n",
        "<font size = \"4\">\n",
        "```python\n",
        "numpy.vsplit(ary, indices_or_sections)\n",
        "```\n",
        "</font>\n",
        "\n",
        "Fractionner un array en plusieurs sous-arrays verticalement (au niveau de la ligne).\n",
        "\n",
        "**Exemple**\n"
      ],
      "metadata": {
        "id": "Qbo8Kf3NFOOp"
      }
    },
    {
      "cell_type": "code",
      "source": [
        "arr = np.arange(16).reshape((4, 4))\n",
        "\n",
        "upper, lower = np.vsplit(arr, [2])\n",
        "\n",
        "print(arr)\n",
        "print(upper)\n",
        "print(lower)"
      ],
      "metadata": {
        "colab": {
          "base_uri": "https://localhost:8080/"
        },
        "id": "3eWYDWpnFlFZ",
        "outputId": "ac6c946d-5c9b-4ec4-83d6-1a22a2ab02a4"
      },
      "execution_count": null,
      "outputs": [
        {
          "output_type": "stream",
          "name": "stdout",
          "text": [
            "[[ 0  1  2  3]\n",
            " [ 4  5  6  7]\n",
            " [ 8  9 10 11]\n",
            " [12 13 14 15]]\n",
            "[[0 1 2 3]\n",
            " [4 5 6 7]]\n",
            "[[ 8  9 10 11]\n",
            " [12 13 14 15]]\n"
          ]
        }
      ]
    },
    {
      "cell_type": "markdown",
      "source": [
        "## Fractionnement horizontal\n",
        "\n",
        "**`numpy.hsplit()`**\n",
        "\n",
        "> Syntaxe\n",
        "<font size = \"4\">\n",
        "```python\n",
        "numpy.hsplit(ary, indices_or_sections)\n",
        "```\n",
        "</font>\n",
        "\n",
        "Fractionner un array en plusieurs sous-arrays horizontalement (en colonne).\n",
        "\n",
        "**Exemple**"
      ],
      "metadata": {
        "id": "sAACdEMzF_DU"
      }
    },
    {
      "cell_type": "code",
      "source": [
        "arr = np.arange(16).reshape((4, 4))\n",
        "\n",
        "left, right = np.hsplit(arr, [2])\n",
        "\n",
        "print(arr)\n",
        "print(left)\n",
        "print(right)"
      ],
      "metadata": {
        "colab": {
          "base_uri": "https://localhost:8080/"
        },
        "id": "CQFCFNrFGOIx",
        "outputId": "3e0af3f3-85c0-4818-e0af-27b5c58775af"
      },
      "execution_count": null,
      "outputs": [
        {
          "output_type": "stream",
          "name": "stdout",
          "text": [
            "[[ 0  1  2  3]\n",
            " [ 4  5  6  7]\n",
            " [ 8  9 10 11]\n",
            " [12 13 14 15]]\n",
            "[[ 0  1]\n",
            " [ 4  5]\n",
            " [ 8  9]\n",
            " [12 13]]\n",
            "[[ 2  3]\n",
            " [ 6  7]\n",
            " [10 11]\n",
            " [14 15]]\n"
          ]
        }
      ]
    }
  ]
}
{
  "nbformat": 4,
  "nbformat_minor": 0,
  "metadata": {
    "colab": {
      "provenance": [],
      "authorship_tag": "ABX9TyN/9CIN4OYd3xR/Hdky+01B"
    },
    "kernelspec": {
      "name": "python3",
      "display_name": "Python 3"
    },
    "language_info": {
      "name": "python"
    }
  },
  "cells": [
    {
      "cell_type": "code",
      "execution_count": null,
      "metadata": {
        "id": "zX_kOtCGZFSL"
      },
      "outputs": [],
      "source": [
        "# importing pandas\n",
        "import pandas as pd\n",
        "\n",
        "# csv file location\n",
        "url = 'https://dq-content.s3.amazonaws.com/291/f500.csv'\n",
        "\n",
        "# making data frame from csv file\n",
        "data = pd.read_csv(url, index_col = 'company')"
      ]
    },
    {
      "cell_type": "markdown",
      "source": [
        "# Gestion des Données Manquantes\n",
        "\n",
        "Un ensemble de données peut contenir des entrées `NA`. Il s'agit de valeurs telles que `null`, `None` ou `NaN` (Not a Number).\n",
        "\n",
        "Pandas utilise une valeur sentinelle (`None` ou `NaN`) pour indiquer une entrée manquante.\n",
        "\n",
        "# Valeur sentinelle **`None`**\n",
        "\n",
        "La première valeur sentinelle utilisée par Pandas est `None`, un objet singleton Python souvent utilisé pour les données manquantes dans le code Python.\n",
        "\n",
        "Si on effectue des agrégations telles que `sum()` ou `min()` sur un array avec une valeur `None`, on obtiendra généralement une erreur.\n",
        "\n",
        "# Données numériques manquantes **`NaN`**\n",
        "\n",
        "L'autre valeur sentinelle utilisée par Pandas est `NaN`, une valeur à virgule flottante spéciale reconnue par tous les systèmes utilisant la représentation à virgule flottante standard IEEE.\n",
        "\n",
        "Quelle que soit l'opération, le résultat de l'arithmétique avec `NaN` sera un autre `NaN`.\n",
        "\n",
        "NumPy fournit des versions de ses fonctions d'agrégation qui sont sécurisées vis à vis de `NaN`, telles que `np.nansum()`, `np.nanmin()` et `np.nanmax()`, qui ignorent ces valeurs manquantes.\n",
        "\n",
        "# **`NaN`** et **`None`** dans Pandas\n",
        "\n",
        "`NaN` et `None` ont tous deux leur place, et Pandas est conçu pour les gérer de manière quasi interchangeable, en effectuant des conversions entre eux si nécessaire.\n",
        "\n",
        "# Opérations sur les valeurs **`null`**\n",
        "\n",
        "Pandas traite `None` et `NaN` comme interchangeables pour indiquer les valeurs manquantes ou `null`.\n",
        "\n",
        "Pour faciliter cette convention, il existe plusieurs méthodes utiles pour détecter, supprimer et remplacer les valeurs `null` dans les structures de données Pandas.\n",
        "\n",
        "Les voici:\n",
        "\n",
        "* `isnull()`: génère un masque booléen indiquant les valeurs manquantes.\n",
        "* `notnull()`: opposé de `isnull()`.\n",
        "* `dropna()`: renvoie une version filtrée des données.\n",
        "* `fillna()`: renvoie une copie des données avec les valeurs manquantes complétées ou imputées.\n",
        "\n",
        "**Exemple**"
      ],
      "metadata": {
        "id": "57Vc_Nr2ZOlX"
      }
    },
    {
      "cell_type": "code",
      "source": [
        "# data filter\n",
        "data_filter = data['profits'].isnull()\n",
        "\n",
        "# data selection\n",
        "data_selection = data[data_filter]['profits']\n",
        "\n",
        "data_selection"
      ],
      "metadata": {
        "colab": {
          "base_uri": "https://localhost:8080/",
          "height": 146
        },
        "id": "arxlqaCCa8i_",
        "outputId": "edaf980b-6d7b-40eb-e677-a30849d2718e"
      },
      "execution_count": null,
      "outputs": [
        {
          "output_type": "execute_result",
          "data": {
            "text/plain": [
              "company\n",
              "Heraeus Holding   NaN\n",
              "Name: profits, dtype: float64"
            ],
            "text/html": [
              "<div>\n",
              "<style scoped>\n",
              "    .dataframe tbody tr th:only-of-type {\n",
              "        vertical-align: middle;\n",
              "    }\n",
              "\n",
              "    .dataframe tbody tr th {\n",
              "        vertical-align: top;\n",
              "    }\n",
              "\n",
              "    .dataframe thead th {\n",
              "        text-align: right;\n",
              "    }\n",
              "</style>\n",
              "<table border=\"1\" class=\"dataframe\">\n",
              "  <thead>\n",
              "    <tr style=\"text-align: right;\">\n",
              "      <th></th>\n",
              "      <th>profits</th>\n",
              "    </tr>\n",
              "    <tr>\n",
              "      <th>company</th>\n",
              "      <th></th>\n",
              "    </tr>\n",
              "  </thead>\n",
              "  <tbody>\n",
              "    <tr>\n",
              "      <th>Heraeus Holding</th>\n",
              "      <td>NaN</td>\n",
              "    </tr>\n",
              "  </tbody>\n",
              "</table>\n",
              "</div><br><label><b>dtype:</b> float64</label>"
            ]
          },
          "metadata": {},
          "execution_count": 2
        }
      ]
    },
    {
      "cell_type": "markdown",
      "source": [
        "## Suppression des valeurs **`null`**\n",
        "\n",
        "La méthode `dropna()` permet de supprimer les valeurs `NA`. Elle renvoie une version filtrée des données.\n",
        "\n",
        "Par défaut, elle supprime toutes les lignes contenant une valeur `null`.\n",
        "\n",
        "Vous pouvez également supprimer les valeurs `NA` le long d'un axe différent. Par exemple, `axis=1` supprime toutes les colonnes contenant une valeur `null`:\n",
        "\n",
        "`dropna(axis='columns')`\n",
        "\n",
        "## Remplissage des valeurs **`null`**\n",
        "\n",
        "La méthode `fillna()` permet de remplir les valeurs `NA`. Elle renvoie une copie de l'array dans lequel les valeurs `null` sont remplacées par une valeur spécifiée. Par exemple, `data.fillna(0)` remplit les valeurs `NA` avec 0."
      ],
      "metadata": {
        "id": "7GHu6spnbns_"
      }
    }
  ]
}
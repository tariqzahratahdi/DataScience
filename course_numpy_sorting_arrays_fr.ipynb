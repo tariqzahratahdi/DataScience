{
  "nbformat": 4,
  "nbformat_minor": 0,
  "metadata": {
    "colab": {
      "provenance": [],
      "authorship_tag": "ABX9TyPk0lm/Tg4z4t2cWwUQMcl/",
      "include_colab_link": true
    },
    "kernelspec": {
      "name": "python3",
      "display_name": "Python 3"
    },
    "language_info": {
      "name": "python"
    }
  },
  "cells": [
    {
      "cell_type": "markdown",
      "metadata": {
        "id": "view-in-github",
        "colab_type": "text"
      },
      "source": [
        "<a href=\"https://colab.research.google.com/github/tariqzahratahdi/DataScience/blob/main/course_numpy_sorting_arrays_fr.ipynb\" target=\"_parent\"><img src=\"https://colab.research.google.com/assets/colab-badge.svg\" alt=\"Open In Colab\"/></a>"
      ]
    },
    {
      "cell_type": "markdown",
      "source": [
        "# Tri des arrays\n",
        "\n",
        "Le tri des arrays de données est une tâche numérique très courante.\n",
        "\n",
        "Ceci est facile à réaliser à l'aide de la fonction **`numpy.sort()`**.\n",
        "\n",
        "## La méthode de tri\n",
        "\n",
        "> Syntaxe\n",
        "<font size = \"4\">\n",
        "```python\n",
        "numpy.sort(a, axis=-1, kind=None, order=None)\n",
        "```\n",
        "</font>\n",
        "\n",
        "*Paramètres*\n",
        "* `a`: l'array à trier.\n",
        "* `axis`: `int` ou `None`, facultatif. L'axe sur lequel l'array sera trié. La valeur par défaut est `-1`, qui trie le long du dernier axe.\n",
        "* `kind`: {`quicksort`, `mergesort`, `heapsort`, `stable`}, facultatif. L'algorithme de tri. La valeur par défaut est `quicksort`.\n",
        "\n",
        "Le tri est effectué dans l'ordre croissant.\n"
      ],
      "metadata": {
        "id": "eOWBUlXsRxUk"
      }
    },
    {
      "cell_type": "code",
      "source": [
        "import numpy as np\n",
        "\n",
        "a = np.random.randint(10, 99, 9)\n",
        "arr1 = a.reshape(3, 3)\n",
        "\n",
        "print(arr1)\n",
        "\n",
        "# sort\n",
        "arr2 = np.sort(arr1)\n",
        "\n",
        "print(arr2)"
      ],
      "metadata": {
        "colab": {
          "base_uri": "https://localhost:8080/"
        },
        "id": "R3ApCLrqTLiS",
        "outputId": "333c6b79-0aef-4f86-a91f-42ad468d53b5"
      },
      "execution_count": null,
      "outputs": [
        {
          "output_type": "stream",
          "name": "stdout",
          "text": [
            "[[22 28 73]\n",
            " [60 62 90]\n",
            " [44 27 60]]\n",
            "[[22 28 73]\n",
            " [60 62 90]\n",
            " [27 44 60]]\n"
          ]
        }
      ]
    },
    {
      "cell_type": "markdown",
      "source": [
        "## Trier et aplatir\n",
        "\n",
        "Pour aplatir l'array lors du tri, on ajoute `axis=None` à l'appel de tri."
      ],
      "metadata": {
        "id": "KFTc4wO-TgMJ"
      }
    },
    {
      "cell_type": "code",
      "execution_count": null,
      "metadata": {
        "colab": {
          "base_uri": "https://localhost:8080/"
        },
        "id": "m7ZapOTaRvYu",
        "outputId": "32598ba4-b06f-48d9-c118-4567c44b1f7d"
      },
      "outputs": [
        {
          "output_type": "stream",
          "name": "stdout",
          "text": [
            "[[66 77 17]\n",
            " [86 20 77]\n",
            " [96 39 56]]\n",
            "[17 20 39 56 66 77 77 86 96]\n"
          ]
        }
      ],
      "source": [
        "a = np.random.randint(10, 99, 9)\n",
        "arr1 = a.reshape(3, 3)\n",
        "\n",
        "print(arr1)\n",
        "\n",
        "# sort and flatten array\n",
        "arr2 = np.sort(arr1, axis=None)\n",
        "\n",
        "print(arr2)"
      ]
    },
    {
      "cell_type": "markdown",
      "source": [
        "## Tri de chaque ligne\n",
        "\n",
        "Pour trier chaque ligne d'un array 2D dans l'ordre croissant, on spécifie l'axe sur lequel trier. Dans ce cas, on doit trier le long de `axis=1`."
      ],
      "metadata": {
        "id": "USoHcJk1c4h9"
      }
    },
    {
      "cell_type": "code",
      "source": [
        "a = np.random.randint(10, 99, 9)\n",
        "arr1 = a.reshape(3, 3)\n",
        "\n",
        "print(arr1)\n",
        "\n",
        "# sort each row\n",
        "arr2 = np.sort(arr1, axis=1)\n",
        "\n",
        "print(arr2)"
      ],
      "metadata": {
        "colab": {
          "base_uri": "https://localhost:8080/"
        },
        "id": "rjt6x_VWdHdw",
        "outputId": "49bbee7b-b0cd-4ad8-ec96-1358b67aea6f"
      },
      "execution_count": null,
      "outputs": [
        {
          "output_type": "stream",
          "name": "stdout",
          "text": [
            "[[89 34 26]\n",
            " [48 70 16]\n",
            " [91 11 89]]\n",
            "[[26 34 89]\n",
            " [16 48 70]\n",
            " [11 89 91]]\n"
          ]
        }
      ]
    },
    {
      "cell_type": "markdown",
      "source": [
        "## Tri de chaque colonne\n",
        "\n",
        "On procède de la même manière que le tri des lignes, sauf qu'on trie le long de `axis=0`."
      ],
      "metadata": {
        "id": "JjhI5ZPCdfum"
      }
    },
    {
      "cell_type": "code",
      "source": [
        "a = np.random.randint(10, 99, 9)\n",
        "arr1 = a.reshape(3, 3)\n",
        "\n",
        "print(arr1)\n",
        "\n",
        "# trier chaque colonne\n",
        "arr2 = np.sort(arr1, axis=0)\n",
        "\n",
        "print(arr2)"
      ],
      "metadata": {
        "colab": {
          "base_uri": "https://localhost:8080/"
        },
        "id": "y4CW91sKdklr",
        "outputId": "68b00dc5-5017-461d-9ed2-d5afc997cdef"
      },
      "execution_count": null,
      "outputs": [
        {
          "output_type": "stream",
          "name": "stdout",
          "text": [
            "[[81 59 25]\n",
            " [27 65 96]\n",
            " [44 57 92]]\n",
            "[[27 57 25]\n",
            " [44 59 92]\n",
            " [81 65 96]]\n"
          ]
        }
      ]
    }
  ]
}
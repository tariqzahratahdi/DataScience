{
  "nbformat": 4,
  "nbformat_minor": 0,
  "metadata": {
    "colab": {
      "provenance": [],
      "authorship_tag": "ABX9TyM4dHrdLw8HOnrzTRlDOe4b",
      "include_colab_link": true
    },
    "kernelspec": {
      "name": "python3",
      "display_name": "Python 3"
    },
    "language_info": {
      "name": "python"
    }
  },
  "cells": [
    {
      "cell_type": "markdown",
      "metadata": {
        "id": "view-in-github",
        "colab_type": "text"
      },
      "source": [
        "<a href=\"https://colab.research.google.com/github/tariqzahratahdi/DataScience/blob/main/course_matplotlib_histograms.ipynb\" target=\"_parent\"><img src=\"https://colab.research.google.com/assets/colab-badge.svg\" alt=\"Open In Colab\"/></a>"
      ]
    },
    {
      "cell_type": "markdown",
      "source": [
        "# Histograms\n",
        "\n",
        "# Creating a histogram plot\n",
        "\n",
        "A simple histogram can be a first step in understanding a dataset.\n",
        "\n",
        "Histogram plots are excellent for showing the distribution of data.\n",
        "\n",
        "A histogram is basically used to represent data provided in a form of some groups.\n",
        "\n",
        "For example, you might want to show the distribution of ages of a population or wages of city.\n",
        "\n",
        "A histogram displays numerical data by grouping data into \"bins\" (areas) of equal width. Each bin is plotted as a bar whose height corresponds to how many data points are in that bin.\n",
        "\n",
        "In a histogram plot the X-axis represents the bin ranges while the Y-axis gives information about frequency.\n",
        "\n",
        "The function `pyplot.hist()` allows to compute and plot a histogram.\n",
        "\n",
        "**Example**"
      ],
      "metadata": {
        "id": "en9MZatIncot"
      }
    },
    {
      "cell_type": "code",
      "execution_count": null,
      "metadata": {
        "colab": {
          "base_uri": "https://localhost:8080/",
          "height": 425
        },
        "id": "VWB4q3NonNyZ",
        "outputId": "4865d230-955b-4767-a062-cca42ae223b6"
      },
      "outputs": [
        {
          "output_type": "display_data",
          "data": {
            "text/plain": [
              "<Figure size 640x480 with 1 Axes>"
            ],
            "image/png": "[encoded data removed]"
          },
          "metadata": {}
        }
      ],
      "source": [
        "import numpy as np\n",
        "import matplotlib.pyplot as plt\n",
        "\n",
        "plt.style.use('seaborn-v0_8-whitegrid')\n",
        "\n",
        "# making data from a normal distribution\n",
        "data = np.random.randn(1000)\n",
        "\n",
        "# setting figure\n",
        "plt.hist(data, bins=12, linewidth=0.5, edgecolor=\"white\")\n",
        "\n",
        "# plotting figure\n",
        "plt.show()"
      ]
    },
    {
      "cell_type": "markdown",
      "source": [
        "If the parameter `bins` is an integer, it defines the number of equal-width bins in the range.<br>\n",
        "If `bins` is a sequence, it defines the bin edges.<br>\n",
        "For example, if `bins` is:\n",
        "```python\n",
        "[1, 2, 3, 4]\n",
        "```\n",
        "then, the first bin is `[1, 2)`, the second `[2, 3)` and the last `[3, 4]`.\n",
        "\n",
        "The function `pyplot.hist()` returns:\n",
        "* `n`: `array` or `list` of arrays. The values of the histogram bins.\n",
        "* `bins`: `array`. The edges of the bins."
      ],
      "metadata": {
        "id": "bGFE92kCG3Z8"
      }
    }
  ]
}